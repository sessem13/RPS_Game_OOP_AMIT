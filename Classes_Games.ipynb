{
 "cells": [
  {
   "cell_type": "markdown",
   "id": "6d2b47a7-cc13-44f5-ace6-5e4f8697654a",
   "metadata": {},
   "source": [
    "# Rock, Paper, and Scissors game:"
   ]
  },
  {
   "cell_type": "code",
   "execution_count": 7,
   "id": "d8776307-34fe-40c3-b0a3-4e09b231c719",
   "metadata": {},
   "outputs": [],
   "source": [
    "#class to build game:\n",
    "import random\n",
    "class RPS_Game():\n",
    "    computer_choice = [\"Rock\", \"Paper\", \"Scissors\"]\n",
    "    \n",
    "    def __init__ (self, game):\n",
    "        self.game = game\n",
    "        \n",
    "    def start_game(self):\n",
    "        print(\"Game started: \\n\")\n",
    "        print(\"Insert one of the following choices: \\n\")\n",
    "        user_choice = input(\"(Rock, Paper, Scissors)\")\n",
    "        computer_action = random.choice(computer_choice)\n",
    "        \n",
    "        if user_choice == computer_action:\n",
    "            print(\"It's a tie!, no winner\")\n",
    "        elif user_choice == \"Rock\":\n",
    "            if computer_action == \"Scissors\":\n",
    "                print(\"Rock Wins scissors! You win!\")\n",
    "            else:\n",
    "                print(\"Paper Wins rock! You lose.\")\n",
    "        \n",
    "        elif user_choice == \"Paper\":\n",
    "            if computer_action == \"Rock\":\n",
    "                print(\"Paper Wins rock! You win!\")\n",
    "            else:\n",
    "                print(\"Scissors Wins paper! You lose.\")\n",
    "        \n",
    "        elif user_choice == \"Scissors\":\n",
    "            if computer_action == \"Paper\":\n",
    "                print(\"Scissors Wins paper! You win!\")\n",
    "            else:\n",
    "                print(\"Rock Wins scissors! You lose.\")"
   ]
  },
  {
   "cell_type": "code",
   "execution_count": 8,
   "id": "60411cfb-cbc5-4af9-a4c6-2146a25ecabb",
   "metadata": {},
   "outputs": [],
   "source": [
    "new_game = RPS_Game(\"First trial\")"
   ]
  },
  {
   "cell_type": "code",
   "execution_count": 9,
   "id": "372ca6c0-3352-4d50-9e45-4362ff9b33d8",
   "metadata": {},
   "outputs": [
    {
     "name": "stdout",
     "output_type": "stream",
     "text": [
      "Game started: \n",
      "\n",
      "Insert one of the following choices: \n",
      "\n"
     ]
    },
    {
     "name": "stdin",
     "output_type": "stream",
     "text": [
      "(Rock, Paper, Scissors) Paper\n"
     ]
    },
    {
     "ename": "NameError",
     "evalue": "name 'computer_choice' is not defined",
     "output_type": "error",
     "traceback": [
      "\u001b[1;31m---------------------------------------------------------------------------\u001b[0m",
      "\u001b[1;31mNameError\u001b[0m                                 Traceback (most recent call last)",
      "\u001b[1;32m~\\AppData\\Local\\Temp\\ipykernel_11556\\183122554.py\u001b[0m in \u001b[0;36m<module>\u001b[1;34m\u001b[0m\n\u001b[1;32m----> 1\u001b[1;33m \u001b[0mnew_game\u001b[0m\u001b[1;33m.\u001b[0m\u001b[0mstart_game\u001b[0m\u001b[1;33m(\u001b[0m\u001b[1;33m)\u001b[0m\u001b[1;33m\u001b[0m\u001b[1;33m\u001b[0m\u001b[0m\n\u001b[0m",
      "\u001b[1;32m~\\AppData\\Local\\Temp\\ipykernel_11556\\1904304440.py\u001b[0m in \u001b[0;36mstart_game\u001b[1;34m(self)\u001b[0m\n\u001b[0;32m     11\u001b[0m         \u001b[0mprint\u001b[0m\u001b[1;33m(\u001b[0m\u001b[1;34m\"Insert one of the following choices: \\n\"\u001b[0m\u001b[1;33m)\u001b[0m\u001b[1;33m\u001b[0m\u001b[1;33m\u001b[0m\u001b[0m\n\u001b[0;32m     12\u001b[0m         \u001b[0muser_choice\u001b[0m \u001b[1;33m=\u001b[0m \u001b[0minput\u001b[0m\u001b[1;33m(\u001b[0m\u001b[1;34m\"(Rock, Paper, Scissors)\"\u001b[0m\u001b[1;33m)\u001b[0m\u001b[1;33m\u001b[0m\u001b[1;33m\u001b[0m\u001b[0m\n\u001b[1;32m---> 13\u001b[1;33m         \u001b[0mcomputer_action\u001b[0m \u001b[1;33m=\u001b[0m \u001b[0mrandom\u001b[0m\u001b[1;33m.\u001b[0m\u001b[0mchoice\u001b[0m\u001b[1;33m(\u001b[0m\u001b[0mcomputer_choice\u001b[0m\u001b[1;33m)\u001b[0m\u001b[1;33m\u001b[0m\u001b[1;33m\u001b[0m\u001b[0m\n\u001b[0m\u001b[0;32m     14\u001b[0m \u001b[1;33m\u001b[0m\u001b[0m\n\u001b[0;32m     15\u001b[0m         \u001b[1;32mif\u001b[0m \u001b[0muser_choice\u001b[0m \u001b[1;33m==\u001b[0m \u001b[0mcomputer_action\u001b[0m\u001b[1;33m:\u001b[0m\u001b[1;33m\u001b[0m\u001b[1;33m\u001b[0m\u001b[0m\n",
      "\u001b[1;31mNameError\u001b[0m: name 'computer_choice' is not defined"
     ]
    }
   ],
   "source": [
    "new_game.start_game()"
   ]
  },
  {
   "cell_type": "code",
   "execution_count": null,
   "id": "1d02cdd3-6f64-41b7-84a9-e89891369b71",
   "metadata": {},
   "outputs": [],
   "source": []
  }
 ],
 "metadata": {
  "kernelspec": {
   "display_name": "Python 3 (ipykernel)",
   "language": "python",
   "name": "python3"
  },
  "language_info": {
   "codemirror_mode": {
    "name": "ipython",
    "version": 3
   },
   "file_extension": ".py",
   "mimetype": "text/x-python",
   "name": "python",
   "nbconvert_exporter": "python",
   "pygments_lexer": "ipython3",
   "version": "3.9.13"
  }
 },
 "nbformat": 4,
 "nbformat_minor": 5
}
